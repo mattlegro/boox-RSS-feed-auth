{
 "cells": [
  {
   "cell_type": "code",
   "execution_count": 1,
   "metadata": {},
   "outputs": [],
   "source": [
    "import feedparser\n",
    "import ftplib\n",
    "import json\n",
    "import requests\n",
    "import os\n",
    "\n",
    "from dotenv import load_dotenv\n",
    "\n",
    "load_dotenv();"
   ]
  },
  {
   "cell_type": "code",
   "execution_count": 2,
   "metadata": {},
   "outputs": [],
   "source": [
    "feed_needing_auth = \"https://towardsdatascience.com/feed\"\n",
    "TDS_USER = os.environ.get(\"MEDIUM_USERNAME\", \"\")\n",
    "TDS_PASS = os.environ.get(\"MEDIUM_PASSWORD\", \"\")\n",
    "\n",
    "FTP_SERVER = os.environ.get(\"FTP_SERVER\",\"\")\n",
    "FTP_USER = os.environ.get(\"FTP_USERNAME\",\"\")\n",
    "FTP_PASS = os.environ.get(\"FTP_PASSWORD\",\"\")"
   ]
  },
  {
   "cell_type": "code",
   "execution_count": 3,
   "metadata": {},
   "outputs": [
    {
     "name": "stdout",
     "output_type": "stream",
     "text": [
      "('esmbaseball@gmail.com', 'HanSolo77!')\n"
     ]
    }
   ],
   "source": [
    "with requests.Session() as s:\n",
    "    s.auth = (TDS_USER, TDS_PASS)\n",
    "    print(s.auth)\n",
    "    response = s.get(feed_needing_auth)"
   ]
  },
  {
   "cell_type": "code",
   "execution_count": 4,
   "metadata": {},
   "outputs": [
    {
     "name": "stdout",
     "output_type": "stream",
     "text": [
      "dict_keys(['title', 'title_detail', 'summary', 'summary_detail', 'links', 'link', 'id', 'guidislink', 'tags', 'authors', 'author', 'author_detail', 'published', 'published_parsed', 'updated', 'updated_parsed'])\n",
      "dict_keys(['title', 'title_detail', 'links', 'link', 'id', 'guidislink', 'tags', 'authors', 'author', 'author_detail', 'published', 'published_parsed', 'updated', 'updated_parsed', 'content', 'summary'])\n",
      "dict_keys(['title', 'title_detail', 'links', 'link', 'id', 'guidislink', 'tags', 'authors', 'author', 'author_detail', 'published', 'published_parsed', 'updated', 'updated_parsed', 'content', 'summary'])\n"
     ]
    }
   ],
   "source": [
    "entries = feedparser.parse(response.content)[\"entries\"]\n",
    "\n",
    "for entry in entries[:3]:\n",
    "    print(entry.keys())"
   ]
  },
  {
   "cell_type": "code",
   "execution_count": 5,
   "metadata": {},
   "outputs": [
    {
     "data": {
      "text/plain": [
       "['Date',\n",
       " 'Content-Type',\n",
       " 'Transfer-Encoding',\n",
       " 'Connection',\n",
       " 'CF-Ray',\n",
       " 'CF-Cache-Status',\n",
       " 'Cache-Control',\n",
       " 'Expires',\n",
       " 'Link',\n",
       " 'Set-Cookie',\n",
       " 'Strict-Transport-Security',\n",
       " 'content-security-policy',\n",
       " 'medium-fulfilled-by',\n",
       " 'pragma',\n",
       " 'x-content-type-options',\n",
       " 'x-envoy-upstream-service-time',\n",
       " 'x-frame-options',\n",
       " 'x-obvious-info',\n",
       " 'x-obvious-tid',\n",
       " 'x-opentracing',\n",
       " 'x-powered-by',\n",
       " 'x-ua-compatible',\n",
       " 'x-xss-protection',\n",
       " 'Vary',\n",
       " 'Server',\n",
       " 'Content-Encoding',\n",
       " 'alt-svc']"
      ]
     },
     "execution_count": 5,
     "metadata": {},
     "output_type": "execute_result"
    }
   ],
   "source": [
    "[key for key in response.headers.keys()]"
   ]
  },
  {
   "cell_type": "code",
   "execution_count": 6,
   "metadata": {},
   "outputs": [
    {
     "data": {
      "text/plain": [
       "'gzip'"
      ]
     },
     "execution_count": 6,
     "metadata": {},
     "output_type": "execute_result"
    }
   ],
   "source": [
    "response.headers[\"Content-Encoding\"]"
   ]
  },
  {
   "cell_type": "code",
   "execution_count": null,
   "metadata": {},
   "outputs": [],
   "source": []
  }
 ],
 "metadata": {
  "kernelspec": {
   "display_name": ".venv",
   "language": "python",
   "name": "python3"
  },
  "language_info": {
   "codemirror_mode": {
    "name": "ipython",
    "version": 3
   },
   "file_extension": ".py",
   "mimetype": "text/x-python",
   "name": "python",
   "nbconvert_exporter": "python",
   "pygments_lexer": "ipython3",
   "version": "3.10.11"
  }
 },
 "nbformat": 4,
 "nbformat_minor": 2
}
